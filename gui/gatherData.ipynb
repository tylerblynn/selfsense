{
 "cells": [
  {
   "cell_type": "markdown",
   "metadata": {},
   "source": [
    "## Model Import and Testing Interface\n",
    "\n"
   ]
  },
  {
   "cell_type": "code",
   "execution_count": 1,
   "metadata": {},
   "outputs": [],
   "source": [
    "import pandas as pd\n",
    "import os\n",
    "import io\n",
    "import sys\n",
    "import math\n",
    "import matplotlib.pyplot as plt \n",
    "import plotly.express as px\n",
    "import plotly.graph_objects as go\n",
    "import ipywidgets as widgets\n",
    "import ipydatetime\n",
    "import IPython\n",
    "import csv\n",
    "import numpy as np\n",
    "import seaborn as sns\n",
    "from IPython.display import display\n",
    "from IPython.display import clear_output\n",
    "from sklearn.model_selection import train_test_split\n",
    "from sklearn.metrics import classification_report, accuracy_score, confusion_matrix\n",
    "from sklearn.metrics import precision_recall_fscore_support\n",
    "from keras.models import load_model\n",
    "import fileupload\n",
    "from ipywidgets import FileUpload\n",
    "import datetime\n",
    "from datetime import datetime\n",
    "import random\n",
    "sys.path.append('..')\n",
    "from data_loaders import empatica\n",
    "from prediction import model\n",
    "from preprocessing import split"
   ]
  },
  {
   "cell_type": "code",
   "execution_count": 2,
   "metadata": {},
   "outputs": [
    {
     "data": {
      "application/vnd.jupyter.widget-view+json": {
       "model_id": "c5fc2f02953e4d999038ae9b49d3ad98",
       "version_major": 2,
       "version_minor": 0
      },
      "text/plain": [
       "Label(value='Select or Upload Model')"
      ]
     },
     "metadata": {},
     "output_type": "display_data"
    },
    {
     "data": {
      "application/vnd.jupyter.widget-view+json": {
       "model_id": "10948ae81e114f798db99b818d600755",
       "version_major": 2,
       "version_minor": 0
      },
      "text/plain": [
       "RadioButtons(description='Models:', options=('braz.h5', 'hannah.h5', 'model.h5'), value='braz.h5')"
      ]
     },
     "metadata": {},
     "output_type": "display_data"
    },
    {
     "data": {
      "application/vnd.jupyter.widget-view+json": {
       "model_id": "dc96225693954e5ca9937e5d6adf09e7",
       "version_major": 2,
       "version_minor": 0
      },
      "text/plain": [
       "Output()"
      ]
     },
     "metadata": {},
     "output_type": "display_data"
    },
    {
     "data": {
      "application/vnd.jupyter.widget-view+json": {
       "model_id": "b073b3d4c0974e8aba17ed7f02efa94a",
       "version_major": 2,
       "version_minor": 0
      },
      "text/plain": [
       "Label(value='Input path for the data set you wish to label')"
      ]
     },
     "metadata": {},
     "output_type": "display_data"
    },
    {
     "data": {
      "application/vnd.jupyter.widget-view+json": {
       "model_id": "aa14f956bf21415cb1e84832827ae0f8",
       "version_major": 2,
       "version_minor": 0
      },
      "text/plain": [
       "Text(value='', description='File Path:', placeholder='Type something')"
      ]
     },
     "metadata": {},
     "output_type": "display_data"
    },
    {
     "data": {
      "application/vnd.jupyter.widget-view+json": {
       "model_id": "591db05c1d1441d0b646d544bb8fcf3a",
       "version_major": 2,
       "version_minor": 0
      },
      "text/plain": [
       "Output()"
      ]
     },
     "metadata": {},
     "output_type": "display_data"
    }
   ],
   "source": [
    "radiobut = True\n",
    "model_select = widgets.RadioButtons(\n",
    "        options=[''],\n",
    "        value= '',\n",
    "        description='Models:',\n",
    "        disabled=False\n",
    "    )\n",
    "\n",
    "if os.path.isdir(os.path.join(os.getcwd() + \"/models\")):\n",
    "    dir_list = os.listdir(os.path.join(os.getcwd() + \"/models\"))\n",
    "    model_select.options = dir_list\n",
    "\n",
    "else:\n",
    "    radiobut = False\n",
    "    model_select = widgets.Text(\n",
    "    value='',\n",
    "    placeholder='Type something',\n",
    "    description='File Path:',\n",
    "    disabled=False\n",
    ")\n",
    "info = widgets.Label('Select or Upload Model')\n",
    "display(info)\n",
    "freq = widgets.Output()\n",
    "display(model_select,freq)\n",
    "\n",
    "\n",
    "data_select = widgets.Text(\n",
    "    value='',\n",
    "    placeholder='Type something',\n",
    "    description='File Path:',\n",
    "    disabled=False\n",
    ")\n",
    "info = widgets.Label('Input path for the data set you wish to label')\n",
    "display(info)\n",
    "data = widgets.Output()\n",
    "display(data_select, data)\n",
    "\n",
    "data_select.value = os.path.join(os.getcwd(), 'exampleFile.csv')"
   ]
  },
  {
   "cell_type": "code",
   "execution_count": 4,
   "metadata": {},
   "outputs": [
    {
     "name": "stdout",
     "output_type": "stream",
     "text": [
      "One-hot-encoding: category names -> int -> one-hot\n",
      "{'Sitting': 0, 'Standing': 1}\n",
      "One-hot-encoding [array([0, 1], dtype=int64)]\n"
     ]
    },
    {
     "data": {
      "application/vnd.jupyter.widget-view+json": {
       "model_id": "99e17e7dff3f43028ed85a2b728d63ca",
       "version_major": 2,
       "version_minor": 0
      },
      "text/plain": [
       "Label(value='This button will add labels to the dataset')"
      ]
     },
     "metadata": {},
     "output_type": "display_data"
    },
    {
     "data": {
      "application/vnd.jupyter.widget-view+json": {
       "model_id": "6734113433134d3aa835efbfee206acd",
       "version_major": 2,
       "version_minor": 0
      },
      "text/plain": [
       "Button(description='Add Labels', style=ButtonStyle())"
      ]
     },
     "metadata": {},
     "output_type": "display_data"
    },
    {
     "name": "stdout",
     "output_type": "stream",
     "text": [
      "{0: 'Running', 1: 'Jogging', 2: 'Walking', 3: 'Sitting', 4: 'Standing', 5: 'Undefined'}\n",
      "Final Predicted Label Counts\n",
      "[['Jogging' '89']\n",
      " ['Running' '29']]\n"
     ]
    },
    {
     "data": {
      "image/png": "[encoded data removed]",
      "text/plain": [
       "<Figure size 432x216 with 1 Axes>"
      ]
     },
     "metadata": {
      "needs_background": "light"
     },
     "output_type": "display_data"
    },
    {
     "name": "stdout",
     "output_type": "stream",
     "text": [
      "              precision    recall  f1-score   support\n",
      "\n",
      "     Jogging       1.00      0.51      0.67        57\n",
      "     Running       0.69      1.00      0.81        61\n",
      "\n",
      "    accuracy                           0.76       118\n",
      "   macro avg       0.84      0.75      0.74       118\n",
      "weighted avg       0.84      0.76      0.75       118\n",
      "\n"
     ]
    },
    {
     "data": {
      "image/png": "[encoded data removed]",
      "text/plain": [
       "<Figure size 468x360 with 2 Axes>"
      ]
     },
     "metadata": {
      "needs_background": "light"
     },
     "output_type": "display_data"
    }
   ],
   "source": [
    "\"\"\"\n",
    "citations:\n",
    "getting name of a file without the extension:       https://theprogrammingexpert.com/python-remove-extension/\n",
    "interesting techniques for labeling df:             https://www.geeksforgeeks.org/label-based-indexing-to-the-pandas-dataframe/\n",
    "fill in values of df according to dictionary:       https://stackoverflow.com/questions/64481108/assign-a-value-between-index-values-ranges-in-pandas\n",
    "\n",
    "\"\"\"\n",
    "\n",
    "def getNPdimensions(filename_without_ext):\n",
    "    filename = filename_without_ext.removesuffix('.h5')\n",
    "    filename = filename + \".csv\"\n",
    "    path = os.path.join(os.getcwd(), \"np_dimensions\")\n",
    "    np_dimensions = []\n",
    "    if os.path.isfile(os.path.join(path, filename)):\n",
    "        fileList = pd.read_csv(os.path.join(path, filename))\n",
    "        np_dimensions = list(fileList)\n",
    "    np_dimensions[0] = int(math.floor(float(np_dimensions[0])))\n",
    "    np_dimensions[1] = int(math.floor(float(np_dimensions[1])))\n",
    "    return np_dimensions\n",
    "\n",
    "\n",
    "\n",
    "\n",
    "if radiobut:\n",
    "    previousPath = os.getcwd()\n",
    "    os.chdir('models')\n",
    "    modelPath = os.path.join(os.getcwd(), model_select.value)\n",
    "    new_model = load_model(modelPath)\n",
    "    os.chdir(previousPath)\n",
    "    \n",
    "    \"\"\"\n",
    "    filename = os.path.basename(modelPath)\n",
    "    filename_without_ext = os.path.splitext(filename)[0]\n",
    "    print(filename_without_ext)\n",
    "    np_dimensions = getNPdimensions(filename_without_ext)\n",
    "    \"\"\"\n",
    "\n",
    "elif(os.path.isfile(model_select.value)):\n",
    "    new_model = load_model(model_select.value)\n",
    "\n",
    "if data_select.value != '':\n",
    "    df = pd.read_csv(data_select.value)\n",
    "    dfA = df.set_index('datetime')\n",
    "\n",
    "np_dimensions = getNPdimensions(model_select.value)\n",
    "new_np = split.NParrays(*np_dimensions)\n",
    "new_np.setArrays(dfA)\n",
    "\n",
    "cnn = model.CNN()\n",
    "testModel = model.CNN()\n",
    "testModel.setModel(new_model)\n",
    "testModel.only_test_data(new_np.x, new_np.y)\n",
    "\n",
    "def label_confidence(l):\n",
    "    return max(l)/sum(l)\n",
    "\n",
    "def pred_to_labels(predictions):\n",
    "    y_pred = np.argmax(predictions, axis=-1)\n",
    "    y_pred_labels = np.vectorize(labels_dict.get)(y_pred)\n",
    "    return y_pred_labels\n",
    "\n",
    "def labels_to_dict(labels):\n",
    "    label_frame =pd.read_csv(labels)\n",
    "    labels = list(label_frame)\n",
    "    label_dict = {}\n",
    "    for i in range(len(labels)):\n",
    "        label_dict[labels[i]] = i\n",
    "    return dict([(value, key) for key, value in label_dict.items()])\n",
    "\n",
    "\n",
    "def flag_sus_labels(npObject, labels_dict, labels, model, CON_THRESHOLD):\n",
    "    label_frame = pd.read_csv(labels)\n",
    "    labels = list(label_frame)\n",
    "\n",
    "    predictions = model.predict(npObject.x, verbose = 0, batch_size = 32)\n",
    "    y_pred = np.argmax(predictions, axis=-1)\n",
    "    y_pred_labels = np.vectorize(labels_dict.get)(y_pred)\n",
    "    unique, counts = np.unique(y_pred_labels, return_counts=True)\n",
    "    \n",
    "    fig, ax = plt.subplots(1,1,figsize=(6,3))\n",
    "    ax.plot(y_pred,linestyle=\"\",marker=\".\")\n",
    "    plt.title('Predicted Activity Labels')\n",
    "    ax.set_xlabel('Elapsed Time(seconds)')\n",
    "\n",
    "    ax.set_yticks(np.arange(len(labels)))\n",
    "    ax.set_yticklabels(labels)\n",
    "    ax.grid()\n",
    "\n",
    "    for i in range(0, len(predictions), 20):\n",
    "        if sum([label_confidence(j)<CON_THRESHOLD for j in predictions[i:i+20]]) >0:\n",
    "            plt.axvspan(i, i+20, color='gold', alpha=0.2)\n",
    "\n",
    "    plt.tight_layout() # keeps labels from being cutoff when saving as pdf\n",
    "    plt.show()\n",
    "\n",
    "def labelDf(df, labels_dict, model, npObject):\n",
    "\n",
    "    #copy the dataframe and initialize all predicted labels to Undefined\n",
    "    labeledDf = df\n",
    "    labeledDf['pred_labels'] = \"Undefined\"\n",
    "    \n",
    "    #reformat y_pred to hold the string values for labels\n",
    "    predictions = model.predict(npObject.x, verbose = 0, batch_size = 32)\n",
    "    y_pred = np.argmax(predictions, axis=-1)\n",
    "    y_pred_labels = np.vectorize(labels_dict.get)(y_pred)\n",
    "    unique, counts = np.unique(y_pred_labels, return_counts=True)\n",
    "\n",
    "    #print out relevant information about labels and dictionary\n",
    "    print(labels_dict)\n",
    "    print(\"Final Predicted Label Counts\")\n",
    "    print (np.asarray((unique, counts)).T)\n",
    "    #label the new dataframe\n",
    "    \n",
    "    for z in range(y_pred_labels.size):\n",
    "        start = npObject.time[z][0]\n",
    "        end = npObject.time[z][1]\n",
    "        labeledDf.loc[start : end, ['pred_labels']] = y_pred_labels[z]\n",
    "\n",
    "def confusion_mat(npObject, model, labelLoc):\n",
    "    labels_dict = labels_to_dict(labelLoc)\n",
    "\n",
    "    predictions = model.model.predict(npObject.x, verbose = 0, batch_size = 32)\n",
    "    y_pred = np.argmax(predictions, axis=-1)\n",
    "    y_pred_labels = np.vectorize(labels_dict.get)(y_pred)\n",
    "    unique, counts = np.unique(y_pred_labels, return_counts=True)\n",
    "\n",
    "    test_acc , y_pred = model.run()\n",
    "    y_test_act = np.argmax(npObject.y, axis=-1)\n",
    "    class_rpt_for_log = classification_report(y_test_act, y_pred, target_names = unique)\n",
    "    print(class_rpt_for_log)\n",
    "\n",
    "    cm = confusion_matrix(y_test_act, y_pred)\n",
    "    cm_df = pd.DataFrame(cm, index = unique, columns = unique)\n",
    "    fig = plt.figure(figsize=(6.5,5))\n",
    "    sns.heatmap(cm_df, annot=True, fmt='d', cmap= 'cubehelix_r')\n",
    "    plt.title('1D CNN Accuracy:{0:.3f}'.format(accuracy_score(y_test_act, y_pred)))\n",
    "    plt.ylabel('True Label')\n",
    "    plt.xlabel('Predicted Label')\n",
    "    plt.tight_layout()\n",
    "    plt.show()\n",
    "\n",
    "info = widgets.Label('This button will add labels to the dataset')\n",
    "display(info)\n",
    "def clicked(arg):\n",
    "    labelDf(df, labels_to_dict(os.path.join(os.getcwd(), 'testLabelList.csv')), testModel.model, new_np)\n",
    "    flag_sus_labels(new_np, labels_to_dict(os.path.join(os.getcwd(), 'testLabelList.csv')),os.path.join(os.getcwd(), 'testLabelList.csv'), testModel.model, 0.99)\n",
    "    confusion_mat(new_np ,testModel, os.path.join(os.getcwd(), 'testLabelList.csv')\n",
    "    \n",
    "    )\n",
    "button_download = widgets.Button(description = 'Add Labels')   \n",
    "button_download.on_click(clicked)\n",
    "display(button_download)"
   ]
  }
 ],
 "metadata": {
  "kernelspec": {
   "display_name": "Python 3.10.1 64-bit",
   "language": "python",
   "name": "python3"
  },
  "language_info": {
   "codemirror_mode": {
    "name": "ipython",
    "version": 3
   },
   "file_extension": ".py",
   "mimetype": "text/x-python",
   "name": "python",
   "nbconvert_exporter": "python",
   "pygments_lexer": "ipython3",
   "version": "3.10.7"
  },
  "orig_nbformat": 4,
  "vscode": {
   "interpreter": {
    "hash": "7808b15771fe78a77d4c372cdfab1c994e69d8fbe32835241b14b85e1a532b48"
   }
  }
 },
 "nbformat": 4,
 "nbformat_minor": 2
}
